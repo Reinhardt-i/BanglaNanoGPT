{
 "cells": [
  {
   "cell_type": "code",
   "execution_count": 1,
   "id": "305e356d-f9ce-4f0b-8c65-e9e006759cff",
   "metadata": {
    "tags": []
   },
   "outputs": [],
   "source": [
    "# read it in to inspect it\n",
    "with open('poem.txt', 'r', encoding='utf-8') as f:\n",
    "    text = f.read()"
   ]
  },
  {
   "cell_type": "code",
   "execution_count": 2,
   "id": "c24d1df3-3a8a-421b-a3e6-72d20c5da601",
   "metadata": {
    "tags": []
   },
   "outputs": [
    {
     "name": "stdout",
     "output_type": "stream",
     "text": [
      "length of dataset in characters:  2368921\n"
     ]
    }
   ],
   "source": [
    "print(\"length of dataset in characters: \", len(text))"
   ]
  },
  {
   "cell_type": "code",
   "execution_count": 3,
   "id": "671f6c70-e889-4f20-9483-c48d93f9b48c",
   "metadata": {
    "tags": []
   },
   "outputs": [
    {
     "name": "stdout",
     "output_type": "stream",
     "text": [
      "বজাও রে মোহন বাঁশি।\n",
      "সারা দিবসক\n",
      "বিরহদহনদুখ,\n",
      "মরমক তিয়াষ নাশি।\n",
      "রিঝমনভেদন\n",
      "বাঁশরিবাদন\n",
      "কঁহা শিখলি রে কান?\n",
      "হানে থিরথির\n",
      "মরমঅবশকর\n",
      "লহু লহু মধুময় বাণ।\n",
      "ধসধস করতহ\n",
      "উরহ বিয়াকুলু,\n",
      "ঢুলু ঢুলু অবশনয়ান ;\n",
      "কত কত বরষক\n",
      "বাত সোঁয়ারয়,\n",
      "অধীর করয় পরান।\n",
      "কত শত আশা\n",
      "পূরল না বঁধু,\n",
      "কত সুখ করল পয়ান।\n",
      "পহু গো কত শত\n",
      "পীরিতযাতন\n",
      "হিয়ে বিঁধাওল বাণ।\n",
      "হৃদয় উদাসয়,\n",
      "নয়ন উছাসয়\n",
      "দারুণ\n",
      "মধুময় গান।\n",
      "সাধ যায় বঁধূ,\n",
      "যমুনাবারিম\n",
      "ডারিব\n",
      "দগধপরান।\n",
      "সাধ যায় পহু,\n",
      "রাখি চরণ তব\n",
      "হৃদয়মাঝ\n",
      "হৃদয়েশ,\n",
      "হৃদয়জুড়াওন\n",
      "বদনচন্দ্র তব\n",
      "হেরব\n",
      "জীবনশেষ।\n",
      "সাধ যায়, ইহ\n",
      "চন্দ্রমকিরণে\n",
      "কুসুমিত\n",
      "কুঞ্জবিতানে\n",
      "বসন্তবায়ে\n",
      "প্রাণ মিশায়ব\n",
      "বাঁশিক সুমধুর গানে।\n",
      "প্রাণ ভৈবে মঝু\n",
      "বেণুগীতময়,\n",
      "রাধাময় তব\n",
      "বেণু।\n",
      "জয় জয় মাধব,\n",
      "জয় জয় রাধা,\n",
      "চরণে\n",
      "প্রণমে ভানু।\n",
      "শুনহ শুনহ বালিকা,\n",
      "রাখ কুসুমমালিকা,\n",
      "কুঞ্জ কুঞ্জ ফেরনু সখি শ্যামচন্দ্র নাহি রে।\n",
      "দুলই কুসুমমুঞ্জরী,\n",
      "ভমর ফিরই গুঞ্জরি,\n",
      "অলস যমুনা বহয়ি যায় ললিত গীত গাহি রে।\n",
      "শশিসনাথ যামিনী,\n",
      "বিরহবিধুর কামিনী,\n",
      "কুসুমহার ভইল ভার— হৃদয় তার দাহিছে।\n",
      "অধর উঠই কাঁপিয়া\n",
      "সখিকরে কর আপিয়া,\n",
      "কুঞ্জভবনে পাপিয়া কাহে গীত গাহিছে।\n",
      "মৃদু সমীর সঞ্চলে\n",
      "হরয়ি শিথিল অঞ্চলে,\n",
      "চকিত হৃদয় চঞ্চলে কাননপথ চাহি রে।\n",
      "কুঞ্জপান\n"
     ]
    }
   ],
   "source": [
    "print(text[:1000])"
   ]
  },
  {
   "cell_type": "code",
   "execution_count": 4,
   "id": "5272ab85-d489-41bb-9b9f-30f955e2ccd9",
   "metadata": {
    "tags": []
   },
   "outputs": [
    {
     "name": "stdout",
     "output_type": "stream",
     "text": [
      "\n",
      " !\"'(),-.12679:;?BCFHJLMNORTW[]_abcdefghiklmnoprstuvwxy|ű̶।॥ঁংঃঅআইঈউঊঋএঐওঔকখগঘঙচছজঝঞটঠডঢণতথদধনপফবভমযরলশষসহািীুূৃেৈোৌ্ৎড়ঢ়য়০১২৩৪৫৬৭৮৯‍–—‘’“”\n",
      "139\n"
     ]
    }
   ],
   "source": [
    "# here are all the unique characters that occur in this text\n",
    "chars = sorted(list(set(text)))\n",
    "vocab_size = len(chars)\n",
    "print(''.join(chars))\n",
    "print(vocab_size)"
   ]
  },
  {
   "cell_type": "code",
   "execution_count": 6,
   "id": "dfb7d9e9-913b-495c-90f9-acc72d49b1df",
   "metadata": {
    "tags": []
   },
   "outputs": [
    {
     "name": "stdout",
     "output_type": "stream",
     "text": [
      "[65, 99, 107, 101, 1, 82, 110, 90, 107]\n",
      "আমার জুতা\n"
     ]
    }
   ],
   "source": [
    "# create a mapping from characters to integers\n",
    "stoi = { ch:i for i,ch in enumerate(chars) }\n",
    "itos = { i:ch for i,ch in enumerate(chars) }\n",
    "encode = lambda s: [stoi[c] for c in s] # encoder: take a string, output a list of integers\n",
    "decode = lambda l: ''.join([itos[i] for i in l]) # decoder: take a list of integers, output a string\n",
    "\n",
    "print(encode(\"আমার জুতা\"))\n",
    "print(decode(encode(\"আমার জুতা\")))"
   ]
  },
  {
   "cell_type": "code",
   "execution_count": 7,
   "id": "8b2cf629-8fac-46d4-a471-74ad67b5c6e5",
   "metadata": {
    "tags": []
   },
   "outputs": [
    {
     "ename": "ModuleNotFoundError",
     "evalue": "No module named 'torch'",
     "output_type": "error",
     "traceback": [
      "\u001b[1;31m---------------------------------------------------------------------------\u001b[0m",
      "\u001b[1;31mModuleNotFoundError\u001b[0m                       Traceback (most recent call last)",
      "Cell \u001b[1;32mIn[7], line 2\u001b[0m\n\u001b[0;32m      1\u001b[0m \u001b[38;5;66;03m# let's now encode the entire text dataset and store it into a torch.Tensor\u001b[39;00m\n\u001b[1;32m----> 2\u001b[0m \u001b[38;5;28;01mimport\u001b[39;00m \u001b[38;5;21;01mtorch\u001b[39;00m \u001b[38;5;66;03m# we use PyTorch: https://pytorch.org\u001b[39;00m\n\u001b[0;32m      3\u001b[0m data \u001b[38;5;241m=\u001b[39m torch\u001b[38;5;241m.\u001b[39mtensor(encode(text), dtype\u001b[38;5;241m=\u001b[39mtorch\u001b[38;5;241m.\u001b[39mlong)\n\u001b[0;32m      4\u001b[0m \u001b[38;5;28mprint\u001b[39m(data\u001b[38;5;241m.\u001b[39mshape, data\u001b[38;5;241m.\u001b[39mdtype)\n",
      "\u001b[1;31mModuleNotFoundError\u001b[0m: No module named 'torch'"
     ]
    }
   ],
   "source": [
    "# let's now encode the entire text dataset and store it into a torch.Tensor\n",
    "import torch # we use PyTorch: https://pytorch.org\n",
    "data = torch.tensor(encode(text), dtype=torch.long)\n",
    "print(data.shape, data.dtype)\n",
    "print(data[:1000]) # the 1000 characters we looked at earier will to the GPT look like this"
   ]
  },
  {
   "cell_type": "code",
   "execution_count": 8,
   "id": "4f38c260-9cc8-4107-ac86-c46c71931ac7",
   "metadata": {
    "tags": []
   },
   "outputs": [
    {
     "ename": "SyntaxError",
     "evalue": "invalid syntax (361738567.py, line 1)",
     "output_type": "error",
     "traceback": [
      "\u001b[1;36m  Cell \u001b[1;32mIn[8], line 1\u001b[1;36m\u001b[0m\n\u001b[1;33m    pip3 install torch torchvision torchaudio --extra-index-url https://download.pytorch.org/whl/cu117\u001b[0m\n\u001b[1;37m         ^\u001b[0m\n\u001b[1;31mSyntaxError\u001b[0m\u001b[1;31m:\u001b[0m invalid syntax\n"
     ]
    }
   ],
   "source": [
    "pip3 install torch torchvision torchaudio --extra-index-url https://download.pytorch.org/whl/cu117"
   ]
  },
  {
   "cell_type": "code",
   "execution_count": null,
   "id": "bb54a920-1981-4f23-9585-4ed3a30ca19a",
   "metadata": {},
   "outputs": [],
   "source": []
  }
 ],
 "metadata": {
  "kernelspec": {
   "display_name": "Python 3 (ipykernel)",
   "language": "python",
   "name": "python3"
  },
  "language_info": {
   "codemirror_mode": {
    "name": "ipython",
    "version": 3
   },
   "file_extension": ".py",
   "mimetype": "text/x-python",
   "name": "python",
   "nbconvert_exporter": "python",
   "pygments_lexer": "ipython3",
   "version": "3.11.1"
  }
 },
 "nbformat": 4,
 "nbformat_minor": 5
}
